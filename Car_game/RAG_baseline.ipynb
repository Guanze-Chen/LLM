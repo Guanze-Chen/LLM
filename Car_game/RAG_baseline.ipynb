{
 "cells": [
  {
   "cell_type": "markdown",
   "metadata": {},
   "source": [
    "## 读取问答数据集"
   ]
  },
  {
   "cell_type": "code",
   "execution_count": 2,
   "metadata": {},
   "outputs": [
    {
     "name": "stdout",
     "output_type": "stream",
     "text": [
      "{'question': '“前排座椅通风”的相关内容在第几页？', 'answer': '', 'reference': ''}\n"
     ]
    }
   ],
   "source": [
    "import json\n",
    "import pdfplumber\n",
    "\n",
    "questions = json.load(open(\"questions.json\"))\n",
    "print(questions[0])"
   ]
  },
  {
   "cell_type": "code",
   "execution_count": 4,
   "metadata": {},
   "outputs": [
    {
     "name": "stdout",
     "output_type": "stream",
     "text": [
      "354\n"
     ]
    },
    {
     "data": {
      "text/plain": [
       "'欢迎\\n感谢您选择了具有优良安全性、舒适性、动力性和经济性的Lynk&Co领克汽车。\\n首次使用前请仔细、完整地阅读本手册内容，将有助于您更好地了解和使用车辆。\\n本手册中的所有资料均为出版时的最新资料，但本公司将对产品进行不断的改进和优化，您所购的车辆可能与本手册中的描述有所不同，请以实际\\n接收的车辆为准。\\n如您有任何问题，或需要预约服务，请拨打电话4006-010101联系我们。您也可以开车前往Lynk&Co领克中心。\\n在抵达之前，请您注意驾车安全。\\n©领克汽车销售有限公司'"
      ]
     },
     "execution_count": 4,
     "metadata": {},
     "output_type": "execute_result"
    }
   ],
   "source": [
    "pdf = pdfplumber.open(\"trainData.pdf\")\n",
    "print(len(pdf.pages)) # 页数\n",
    "pdf.pages[0].extract_text() # 读取第一页内容"
   ]
  },
  {
   "cell_type": "markdown",
   "metadata": {},
   "source": [
    "## 读取pdf 所有页内容"
   ]
  },
  {
   "cell_type": "code",
   "execution_count": 5,
   "metadata": {},
   "outputs": [],
   "source": [
    "pdf_content = []\n",
    "for page_idx in range(len(pdf.pages)):\n",
    "    pdf_content.append({\n",
    "        \"page\": 'page_' + str(page_idx + 1),\n",
    "        \"content\": pdf.pages[page_idx].extract_text()\n",
    "    })"
   ]
  },
  {
   "cell_type": "code",
   "execution_count": 8,
   "metadata": {},
   "outputs": [
    {
     "data": {
      "text/plain": [
       "{'page': 'page_4',\n",
       " 'content': '目录\\n组合仪表................................................................69 前排座椅通风...........................................................115\\n指示灯和警告灯........................................................69 前排座椅通风...........................................................117\\n指示灯和警告灯........................................................74 头枕.....................................................................118\\n查看组合仪表信息......................................................78 方向盘加热.............................................................119\\n查看组合仪表信息.....................................................80 方向盘加热............................................................120\\n打开/关闭远近光灯....................................................82 儿童锁...................................................................121\\n打开/关闭远近光灯....................................................83 儿童座椅固定装置....................................................122\\n打开/关闭自动大灯....................................................84 推荐的儿童安全座椅规格............................................124\\n智能远近光控制系统...................................................85 语音助手...............................................................126\\n大灯随动转向功能.....................................................86 车载12V电源.........................................................128\\n打开/关闭后雾灯.......................................................86 车载12V电源.........................................................129\\n打开/关闭位置灯........................................................87 智能设备充电..........................................................130\\n打开/关闭转向指示灯..................................................87 智能设备充电..........................................................132\\n使用阅读灯.............................................................88 智能设备充电..........................................................133\\n使用超车灯.............................................................89 智能设备充电..........................................................135\\n使用危险警告灯........................................................89 外接行车记录仪.......................................................137\\n调节背光亮度...........................................................90 遮阳板..................................................................138\\n调节背光亮度............................................................91\\n设置车内氛围灯........................................................92 启动和驾驶\\n使用接近照明灯........................................................94\\n使用伴我回家灯........................................................94\\n欢迎灯和欢送灯........................................................95 驾驶须知................................................................141\\n点火模式................................................................141\\n安全出行 通过手机APP启动车辆................................................142\\n通过遥控钥匙启动车辆...............................................143\\n车辆熄火...............................................................144\\n安全系统................................................................99 换挡....................................................................145\\n安全带...................................................................99 驾驶模式...............................................................146\\n使用安全带.............................................................101 方向盘助力与驾驶模式联动..........................................148\\n安全气囊...............................................................102 抬头显示...............................................................148\\n颈椎撞击保护系统....................................................106 能量回收系统..........................................................152\\n打开/关闭车窗........................................................107 低速行驶提示音.......................................................154\\n打开/关闭全景天窗....................................................110 转向助力系统..........................................................155\\n调节副驾驶座椅........................................................112 制动系统...............................................................155\\n调节副驾驶座椅........................................................113 车身稳定控制系统....................................................156\\n前排座椅加热...........................................................114 制动防抱死系统.......................................................157\\n4'}"
      ]
     },
     "execution_count": 8,
     "metadata": {},
     "output_type": "execute_result"
    }
   ],
   "source": [
    "pdf_content[3]"
   ]
  },
  {
   "cell_type": "markdown",
   "metadata": {},
   "source": [
    "### TFIDF 对文档检索进行预处理"
   ]
  },
  {
   "cell_type": "code",
   "execution_count": 19,
   "metadata": {},
   "outputs": [],
   "source": [
    "import jieba\n",
    "import numpy as np\n",
    "from sklearn.feature_extraction.text import TfidfVectorizer\n",
    "from sklearn.preprocessing import normalize"
   ]
  },
  {
   "cell_type": "code",
   "execution_count": 20,
   "metadata": {},
   "outputs": [
    {
     "name": "stderr",
     "output_type": "stream",
     "text": [
      "Building prefix dict from the default dictionary ...\n",
      "Loading model from cache C:\\Users\\Lenovo\\AppData\\Local\\Temp\\jieba.cache\n",
      "Loading model cost 0.966 seconds.\n",
      "Prefix dict has been built successfully.\n"
     ]
    }
   ],
   "source": [
    "# 对提问和pdf内容进行分词\n",
    "question_words = [\" \".join(jieba.lcut(x['question'])) for x in questions]\n",
    "pdf_content_words = [\" \".join(jieba.lcut(x['content'])) for x in pdf_content]"
   ]
  },
  {
   "cell_type": "code",
   "execution_count": 24,
   "metadata": {},
   "outputs": [
    {
     "data": {
      "text/plain": [
       "'目录 \\n 组合 仪表 ................................................................ 69   前排 座椅 通风 ........................................................... 115 \\n 指示灯 和 警告 灯 ........................................................ 69   前排 座椅 通风 ........................................................... 117 \\n 指示灯 和 警告 灯 ........................................................ 74   头枕 ..................................................................... 118 \\n 查看 组合 仪表 信息 ...................................................... 78   方向盘 加热 ............................................................. 119 \\n 查看 组合 仪表 信息 ..................................................... 80   方向盘 加热 ............................................................ 120 \\n 打开 / 关闭 远 近光灯 .................................................... 82   儿童 锁 ................................................................... 121 \\n 打开 / 关闭 远 近光灯 .................................................... 83   儿童座椅 固定装置 .................................................... 122 \\n 打开 / 关闭 自动 大灯 .................................................... 84   推荐 的 儿童 安全 座椅 规格 ............................................ 124 \\n 智能 远近 光 控制系统 ................................................... 85   语音 助手 ............................................................... 126 \\n 大灯 随动 转向 功能 ..................................................... 86   车载 12V 电源 ......................................................... 128 \\n 打开 / 关闭 后 雾灯 ....................................................... 86   车载 12V 电源 ......................................................... 129 \\n 打开 / 关闭 位置灯 ........................................................ 87   智能 设备 充电 .......................................................... 130 \\n 打开 / 关闭 转向 指示灯 .................................................. 87   智能 设备 充电 .......................................................... 132 \\n 使用 阅读 灯 ............................................................. 88   智能 设备 充电 .......................................................... 133 \\n 使用 超 车灯 ............................................................. 89   智能 设备 充电 .......................................................... 135 \\n 使用 危险 警告 灯 ........................................................ 89   外接 行车 记录仪 ....................................................... 137 \\n 调节 背 光亮度 ........................................................... 90   遮阳板 .................................................................. 138 \\n 调节 背 光亮度 ............................................................ 91 \\n 设置 车 内 氛围 灯 ........................................................ 92   启动 和 驾驶 \\n 使用 接近 照明灯 ........................................................ 94 \\n 使用 伴 我 回家 灯 ........................................................ 94 \\n 欢迎 灯 和 欢送 灯 ........................................................ 95   驾驶 须知 ................................................................ 141 \\n 点火 模式 ................................................................ 141 \\n 安全 出行   通过 手机 APP 启动 车辆 ................................................ 142 \\n 通过 遥控 钥匙 启动 车辆 ............................................... 143 \\n 车辆 熄火 ............................................................... 144 \\n 安全 系统 ................................................................ 99   换挡 .................................................................... 145 \\n 安全带 ................................................................... 99   驾驶 模式 ............................................................... 146 \\n 使用 安全带 ............................................................. 101   方向盘 助力 与 驾驶 模式 联动 .......................................... 148 \\n 安全气囊 ............................................................... 102   抬头 显示 ............................................................... 148 \\n 颈椎 撞击 保护 系统 .................................................... 106   能量 回收 系统 .......................................................... 152 \\n 打开 / 关闭 车窗 ........................................................ 107   低速 行驶 提示音 ....................................................... 154 \\n 打开 / 关闭 全景 天窗 .................................................... 110   转向 助力 系统 .......................................................... 155 \\n 调节 副驾驶 座椅 ........................................................ 112   制动 系统 ............................................................... 155 \\n 调节 副驾驶 座椅 ........................................................ 113   车身 稳定 控制系统 .................................................... 156 \\n 前排 座椅 加热 ........................................................... 114   制动 防抱死 系统 ....................................................... 157 \\n 4'"
      ]
     },
     "execution_count": 24,
     "metadata": {},
     "output_type": "execute_result"
    }
   ],
   "source": [
    "pdf_content_words[3]"
   ]
  },
  {
   "cell_type": "code",
   "execution_count": 12,
   "metadata": {},
   "outputs": [],
   "source": [
    "tfidf = TfidfVectorizer()\n",
    "tfidf.fit(question_words + pdf_content_words)\n",
    "\n",
    "# 提取TFIDF\n",
    "question_feat = tfidf.transform(question_words)\n",
    "pdf_content_feat = tfidf.transform(pdf_content_words)\n",
    "\n",
    "# 进行归一化\n",
    "question_feat = normalize(question_feat) # (301, 4568) 每一个问题被映射成为了一个4568的向量\n",
    "pdf_content_feat = normalize(pdf_content_feat) # (354, 4568) 每一页也被映射成为了4568的向量"
   ]
  },
  {
   "cell_type": "code",
   "execution_count": 16,
   "metadata": {},
   "outputs": [
    {
     "data": {
      "text/plain": [
       "((301, 4568), (354, 4568))"
      ]
     },
     "execution_count": 16,
     "metadata": {},
     "output_type": "execute_result"
    }
   ],
   "source": [
    "question_feat.shape, pdf_content_feat.shape"
   ]
  },
  {
   "cell_type": "code",
   "execution_count": 19,
   "metadata": {},
   "outputs": [],
   "source": [
    "# 检索进行排序\n",
    "\n",
    "for query_idx, feat in enumerate(question_feat):\n",
    "    score = feat @ pdf_content_feat.T # 1 4568 * 4568 354 # 余弦相似度 只不过标准化了模为1 与每个文档的句子的余弦相似度的句矩阵\n",
    "    score = score.toarray()[0] # 1 354 -> 354\n",
    "    max_score_page_idx = score.argsort()[-1] + 1 # argsort函数返回的是数组值从小到大的索引值\n",
    "    questions[query_idx]['reference'] = 'page_' + str(max_score_page_idx)\n",
    " \n"
   ]
  },
  {
   "cell_type": "code",
   "execution_count": 20,
   "metadata": {},
   "outputs": [],
   "source": [
    "# 生成提交结果 这里的生成结果只是定位到几页 但是没有抽取关键词因此得分是0\n",
    "with open('submit.json', 'w', encoding='utf-8') as up:\n",
    "    json.dump(questions, up, ensure_ascii=False, indent=4)\n"
   ]
  },
  {
   "cell_type": "markdown",
   "metadata": {},
   "source": [
    "## BM25\n",
    "![BM25intro](img/BM25.png)\n",
    "\n",
    "!pip install rank_bm25\n"
   ]
  },
  {
   "cell_type": "code",
   "execution_count": 23,
   "metadata": {},
   "outputs": [
    {
     "name": "stdout",
     "output_type": "stream",
     "text": [
      "Collecting rank_bm25\n",
      "  Downloading rank_bm25-0.2.2-py3-none-any.whl (8.6 kB)\n",
      "Requirement already satisfied: numpy in c:\\users\\lenovo\\miniconda3\\envs\\llmdev\\lib\\site-packages (from rank_bm25) (1.26.3)\n",
      "Installing collected packages: rank_bm25\n",
      "Successfully installed rank_bm25-0.2.2\n"
     ]
    }
   ],
   "source": [
    "!pip install rank_bm25"
   ]
  },
  {
   "cell_type": "code",
   "execution_count": 24,
   "metadata": {},
   "outputs": [],
   "source": [
    "from rank_bm25 import BM25Okapi\n",
    "pdf_content_words = [jieba.lcut(x['content']) for x in pdf_content]\n",
    "\n",
    "bm25 = BM25Okapi(pdf_content_words)\n",
    "\n",
    "for query_idx in range(len(questions)):\n",
    "    doc_scores = bm25.get_scores(jieba.lcut(questions[query_idx]['question']))\n",
    "    max_score_page_idx = doc_scores.argsort()[-1] + 1\n",
    "    questions[query_idx]['reference'] = \"page_\" + str(max_score_page_idx)\n",
    "\n",
    "with open('submitBM25.json', 'w', encoding='utf-8') as up:\n",
    "    json.dump(questions, up, ensure_ascii=False, indent=4)"
   ]
  },
  {
   "cell_type": "markdown",
   "metadata": {},
   "source": [
    "### 文本嵌入与向量搜索\n",
    "目的：对文本进行编码，并进行语义检索"
   ]
  },
  {
   "cell_type": "markdown",
   "metadata": {},
   "source": [
    "#### 语义检索流程\n",
    "语义检索是指通过词嵌入和句子嵌入等技术，将文本表示为语义丰富的向量。通过相似度计算和结果排序找到最相关的文档。用户查询经过自然语言处理处理，最终系统返回经过排序的相关文档，提供用户友好的信息展示。一个简单的流程图如下\n",
    "![语义检索](img/semantic_retriveal.png)\n"
   ]
  },
  {
   "cell_type": "markdown",
   "metadata": {},
   "source": [
    "##### 文本编码模型\n",
    "大多数语义检索系统采用预训练模型进行文本编码，其中最为常见的是基于BERT（Bidirectional Encoder Representations from Transformers）的模型，或者使用GPT（Generative Pre-trained Transformer）等。这些预训练模型通过在大规模语料上进行训练，能够捕捉词语和句子之间的复杂语义关系。选择合适的文本编码模型直接影响到得到的文本向量的有效性，进而影响检索的准确性和效果。"
   ]
  },
  {
   "cell_type": "code",
   "execution_count": 29,
   "metadata": {},
   "outputs": [
    {
     "data": {
      "application/vnd.jupyter.widget-view+json": {
       "model_id": "adbfea7c39c742ecb8549fd4f183ae5f",
       "version_major": 2,
       "version_minor": 0
      },
      "text/plain": [
       ".gitattributes:   0%|          | 0.00/1.53k [00:00<?, ?B/s]"
      ]
     },
     "metadata": {},
     "output_type": "display_data"
    },
    {
     "data": {
      "application/vnd.jupyter.widget-view+json": {
       "model_id": "0a7a99d656194ddebbd26c4a24c33ba0",
       "version_major": 2,
       "version_minor": 0
      },
      "text/plain": [
       "1_Pooling/config.json:   0%|          | 0.00/190 [00:00<?, ?B/s]"
      ]
     },
     "metadata": {},
     "output_type": "display_data"
    },
    {
     "data": {
      "application/vnd.jupyter.widget-view+json": {
       "model_id": "fff274076c9f41efbf11602c6a0c3d3d",
       "version_major": 2,
       "version_minor": 0
      },
      "text/plain": [
       "README.md:   0%|          | 0.00/26.6k [00:00<?, ?B/s]"
      ]
     },
     "metadata": {},
     "output_type": "display_data"
    },
    {
     "data": {
      "application/vnd.jupyter.widget-view+json": {
       "model_id": "a40e421cb24e4b3586a808e4fdc8caa0",
       "version_major": 2,
       "version_minor": 0
      },
      "text/plain": [
       "config.json:   0%|          | 0.00/711 [00:00<?, ?B/s]"
      ]
     },
     "metadata": {},
     "output_type": "display_data"
    },
    {
     "data": {
      "application/vnd.jupyter.widget-view+json": {
       "model_id": "2b13dc73865c4f0686851922774b7076",
       "version_major": 2,
       "version_minor": 0
      },
      "text/plain": [
       "pytorch_model.bin:   0%|          | 0.00/95.8M [00:00<?, ?B/s]"
      ]
     },
     "metadata": {},
     "output_type": "display_data"
    },
    {
     "data": {
      "application/vnd.jupyter.widget-view+json": {
       "model_id": "8f31458677594256a34471016bbceff5",
       "version_major": 2,
       "version_minor": 0
      },
      "text/plain": [
       "sentence_bert_config.json:   0%|          | 0.00/53.0 [00:00<?, ?B/s]"
      ]
     },
     "metadata": {},
     "output_type": "display_data"
    },
    {
     "data": {
      "application/vnd.jupyter.widget-view+json": {
       "model_id": "82cdb6ea6e6f40569b5af3d2b6a25fc2",
       "version_major": 2,
       "version_minor": 0
      },
      "text/plain": [
       "special_tokens_map.json:   0%|          | 0.00/125 [00:00<?, ?B/s]"
      ]
     },
     "metadata": {},
     "output_type": "display_data"
    },
    {
     "data": {
      "application/vnd.jupyter.widget-view+json": {
       "model_id": "e46a8c4eeeea444aa95a0add568cd648",
       "version_major": 2,
       "version_minor": 0
      },
      "text/plain": [
       "tokenizer.json:   0%|          | 0.00/439k [00:00<?, ?B/s]"
      ]
     },
     "metadata": {},
     "output_type": "display_data"
    },
    {
     "data": {
      "application/vnd.jupyter.widget-view+json": {
       "model_id": "2b34580c915a42178d54ba69aa9e7d92",
       "version_major": 2,
       "version_minor": 0
      },
      "text/plain": [
       "tokenizer_config.json:   0%|          | 0.00/367 [00:00<?, ?B/s]"
      ]
     },
     "metadata": {},
     "output_type": "display_data"
    },
    {
     "data": {
      "application/vnd.jupyter.widget-view+json": {
       "model_id": "bc12a18219d34bc3acb4d80d1615c583",
       "version_major": 2,
       "version_minor": 0
      },
      "text/plain": [
       "modules.json:   0%|          | 0.00/229 [00:00<?, ?B/s]"
      ]
     },
     "metadata": {},
     "output_type": "display_data"
    },
    {
     "name": "stderr",
     "output_type": "stream",
     "text": [
      "c:\\Users\\Lenovo\\miniconda3\\envs\\LLMDev\\lib\\site-packages\\torch\\_utils.py:831: UserWarning: TypedStorage is deprecated. It will be removed in the future and UntypedStorage will be the only storage class. This should only matter to you if you are using storages directly.  To access UntypedStorage directly, use tensor.untyped_storage() instead of tensor.storage()\n",
      "  return self.fget.__get__(instance, owner)()\n"
     ]
    }
   ],
   "source": [
    "# M3E\n",
    "from sentence_transformers import SentenceTransformer\n",
    "\n",
    "model = SentenceTransformer('moka-ai/m3e-small')"
   ]
  },
  {
   "cell_type": "code",
   "execution_count": 30,
   "metadata": {},
   "outputs": [],
   "source": [
    "question_sentences = [x['question'] for x in questions]\n",
    "pdf_content_sentences = [x['content'] for x in pdf_content]\n",
    "\n",
    "question_embeddings = model.encode(question_sentences, normalize_embeddings=True)\n",
    "pdf_embeddings = model.encode(pdf_content_sentences, normalize_embeddings=True)\n",
    "\n",
    "# ((301, 512), (354, 512))"
   ]
  },
  {
   "cell_type": "code",
   "execution_count": 39,
   "metadata": {},
   "outputs": [
    {
     "data": {
      "text/plain": [
       "429.8774834437086"
      ]
     },
     "execution_count": 39,
     "metadata": {},
     "output_type": "execute_result"
    }
   ],
   "source": [
    "pdf_content_sentences = [x['content'].replace(\"..\", '') for x in pdf_content]\n",
    "count = 0\n",
    "chars = 0\n",
    "for text in pdf_content_sentences:\n",
    "    if len(text) > 100:\n",
    "        count += 1\n",
    "        chars += len(text)\n",
    "\n",
    "avg_token = chars/count\n",
    "avg_token"
   ]
  },
  {
   "cell_type": "code",
   "execution_count": 32,
   "metadata": {},
   "outputs": [],
   "source": [
    "for query_idx, feat in enumerate(question_embeddings):\n",
    "    score = feat @ pdf_embeddings.T\n",
    "    max_score_page_idx = score.argsort()[-1] + 1\n",
    "    questions[query_idx]['reference'] = \"page_\" + str(max_score_page_idx)\n",
    "\n",
    "\n",
    "with open('submitM3e.json', \"w\", encoding='utf-8') as up:\n",
    "    json.dump(questions, up, ensure_ascii=False, indent=4)"
   ]
  },
  {
   "cell_type": "code",
   "execution_count": null,
   "metadata": {},
   "outputs": [],
   "source": []
  },
  {
   "cell_type": "markdown",
   "metadata": {},
   "source": [
    "##### 文本切分[并没有实现，是一个待改进的点] 还有就是不是有目录吗，可以通过问题，解析目录，然后定位内容吗。这个好像从技术上很难做到，\n",
    "而且就算定位到了那标记的一页，你还是需要通过TFIDF等方法来判断相似性，so,it may not make sense\n",
    "reference:\n",
    "- https://python.langchain.com/docs/modules/data_connection/document_transformers/\n",
    "- \n",
    "\n",
    "文本的长度会影响文本编码的结果。短文本和长文本在编码成向量时可能\n",
    "表达不同的语义信息。即使两者包含相同的单词或有相似的语义，由于上下文的不同，得到的向量也会有所不同。因此，当在语义检索中使用短文本来检索长文本时，或者反之，可能导致一定的误差。针对文本长度的差异，有些系统采用截断或填充等方式处理，以保持一致的向量表示。\n",
    "\n",
    "对于自然语言，可以推荐使用Token分割器，结合Chunk Size和Overlap Size可以得到不同的切分：\n",
    "\n",
    "- Chunk Size（块大小）：表示将文本划分为较小块的大小。这是分割后每个独立文本块的长度或容量。块大小的选择取决于应用的需求和对文本结构的理解\n",
    "- Overlap Size（重叠大小）：指相邻两个文本块之间的重叠部分的大小。在切割文本时，通常希望保留一些上下文信息，重叠大小就是控制这种上下文保留的参数。\n",
    "以下是不同的分割器的类型\n",
    "\n",
    "\n",
    "**文本分割器的评价**\n",
    "\n",
    "可以通过  [chunkviz utility](https://chunkviz.up.railway.app/) 来对分割器进行评价\n",
    "\n",
    "![文本分割器](img/text_spliter.png)\n"
   ]
  },
  {
   "cell_type": "code",
   "execution_count": null,
   "metadata": {},
   "outputs": [],
   "source": []
  },
  {
   "cell_type": "markdown",
   "metadata": {},
   "source": [
    "#### 文本多路召回与重排序\n",
    "目的：实现多种文本编码和检索逻辑，并进行重排序\n",
    "\n",
    "##### 多路召回逻辑\n",
    "多路召回逻辑是在文本检索中常用的一种策略，其目的是通过多个召回路径（或方法）综合获取候选文档，以提高检索的全面性和准确性。单一的召回方法可能由于模型特性或数据特点而存在局限性，多路召回逻辑引入了多个召回路径，每个路径采用不同的召回方法。\n",
    "- 实现方法1：将BM25的检索结果 和 语义检索结果 按照排名进行加权\n",
    "- 实现方法2：按照段落、句子、页不同的角度进行语义编码进行检索，综合得到检索结果。\n",
    "![多路召回](img/fusion.png)\n",
    "\n",
    "##### 重排序逻辑（BM25 + BGE Rerank）\n",
    "重排序逻辑是文本检索领域中一种重要的策略，主要用于优化原有文本检索方法返回的候选文档顺序，以提高最终的检索效果。在传统的文本检索方法中，往往采用打分的逻辑，如计算BERT嵌入向量之间的相似度。而重排序逻辑引入了更为复杂的文本交叉方法，通过特征交叉得到更进一步的打分，从而提高排序的准确性。\n",
    "- 重排序逻辑常常使用更为强大的模型，如交叉编码器（cross-encoder）模型。这类模型能够更好地理解文本之间的交叉关系，捕捉更复杂的语义信息。\n",
    "- 首先通过传统的嵌入模型获取初始的Top-k文档，然后使用重排序逻辑对这些文档进行重新排序。这样可以在保留初步筛选文档的基础上，更精确地排列它们的顺序。\n",
    "\n",
    "![重排序](img/rerank.png)"
   ]
  },
  {
   "cell_type": "code",
   "execution_count": 6,
   "metadata": {},
   "outputs": [],
   "source": [
    "import jieba, json, pdfplumber\n",
    "import numpy as np\n",
    "from sklearn.feature_extraction.text import TfidfVectorizer\n",
    "from sklearn.preprocessing import normalize\n",
    "from rank_bm25 import BM25Okapi"
   ]
  },
  {
   "cell_type": "code",
   "execution_count": 7,
   "metadata": {},
   "outputs": [],
   "source": [
    "## load data\n",
    "questions = json.load(open(\"questions.json\"))\n",
    "pdf = pdfplumber.open(\"trainData.pdf\")\n",
    "pdf_content = []\n",
    "for page_idx in range(len(pdf.pages)):\n",
    "    pdf_content.append({\n",
    "        'page': 'page_' + str(page_idx + 1),\n",
    "        'content': pdf.pages[page_idx].extract_text()\n",
    "    })"
   ]
  },
  {
   "cell_type": "code",
   "execution_count": 36,
   "metadata": {},
   "outputs": [
    {
     "data": {
      "text/plain": [
       "XLMRobertaForSequenceClassification(\n",
       "  (roberta): XLMRobertaModel(\n",
       "    (embeddings): XLMRobertaEmbeddings(\n",
       "      (word_embeddings): Embedding(250002, 768, padding_idx=1)\n",
       "      (position_embeddings): Embedding(514, 768, padding_idx=1)\n",
       "      (token_type_embeddings): Embedding(1, 768)\n",
       "      (LayerNorm): LayerNorm((768,), eps=1e-05, elementwise_affine=True)\n",
       "      (dropout): Dropout(p=0.1, inplace=False)\n",
       "    )\n",
       "    (encoder): XLMRobertaEncoder(\n",
       "      (layer): ModuleList(\n",
       "        (0-11): 12 x XLMRobertaLayer(\n",
       "          (attention): XLMRobertaAttention(\n",
       "            (self): XLMRobertaSelfAttention(\n",
       "              (query): Linear(in_features=768, out_features=768, bias=True)\n",
       "              (key): Linear(in_features=768, out_features=768, bias=True)\n",
       "              (value): Linear(in_features=768, out_features=768, bias=True)\n",
       "              (dropout): Dropout(p=0.1, inplace=False)\n",
       "            )\n",
       "            (output): XLMRobertaSelfOutput(\n",
       "              (dense): Linear(in_features=768, out_features=768, bias=True)\n",
       "              (LayerNorm): LayerNorm((768,), eps=1e-05, elementwise_affine=True)\n",
       "              (dropout): Dropout(p=0.1, inplace=False)\n",
       "            )\n",
       "          )\n",
       "          (intermediate): XLMRobertaIntermediate(\n",
       "            (dense): Linear(in_features=768, out_features=3072, bias=True)\n",
       "            (intermediate_act_fn): GELUActivation()\n",
       "          )\n",
       "          (output): XLMRobertaOutput(\n",
       "            (dense): Linear(in_features=3072, out_features=768, bias=True)\n",
       "            (LayerNorm): LayerNorm((768,), eps=1e-05, elementwise_affine=True)\n",
       "            (dropout): Dropout(p=0.1, inplace=False)\n",
       "          )\n",
       "        )\n",
       "      )\n",
       "    )\n",
       "  )\n",
       "  (classifier): XLMRobertaClassificationHead(\n",
       "    (dense): Linear(in_features=768, out_features=768, bias=True)\n",
       "    (dropout): Dropout(p=0.1, inplace=False)\n",
       "    (out_proj): Linear(in_features=768, out_features=1, bias=True)\n",
       "  )\n",
       ")"
      ]
     },
     "execution_count": 36,
     "metadata": {},
     "output_type": "execute_result"
    }
   ],
   "source": [
    "# 加载重排序模型\n",
    "import torch\n",
    "from transformers import AutoModelForSequenceClassification, AutoTokenizer\n",
    "\n",
    "tokenizer = AutoTokenizer.from_pretrained('BAAI/bge-reranker-base')\n",
    "rerank_model = AutoModelForSequenceClassification.from_pretrained('BAAI/bge-reranker-base')\n",
    "rerank_model"
   ]
  },
  {
   "cell_type": "code",
   "execution_count": 39,
   "metadata": {},
   "outputs": [],
   "source": [
    "pdf_content_words = [jieba.lcut(x['content']) for x in pdf_content]\n",
    "bm25 = BM25Okapi(pdf_content_words)\n",
    "\n",
    "# 首先进行BM25检索 计算相关度\n",
    "for query_idx in range(len(questions)):\n",
    "    doc_scores = bm25.get_scores(jieba.lcut(questions[query_idx][\"question\"]))\n",
    "    \n",
    "    # 选取top3\n",
    "    max_score_page_idxs = doc_scores.argsort()[-3:]\n",
    "    pairs = []\n",
    "    for idx in max_score_page_idxs:\n",
    "        pairs.append([questions[query_idx][\"question\"], pdf_content[idx]['content']])\n",
    "    \n",
    "    inputs = tokenizer(pairs, padding=True, truncation=True, return_tensors=\"pt\", max_length=512)\n",
    "\n",
    "    with torch.no_grad():\n",
    "        inputs = {key: inputs[key] for key in inputs.keys()}\n",
    "        scores = rerank_model(**inputs, return_dict=True).logits.view(-1, ).float()\n",
    "    \n",
    "    max_score_page_idx = max_score_page_idxs[scores.numpy().argmax()]\n",
    "    questions[query_idx]['reference'] = \"page_\" + str(max_score_page_idx + 1)"
   ]
  },
  {
   "cell_type": "code",
   "execution_count": 40,
   "metadata": {},
   "outputs": [],
   "source": [
    "with open('submitLM.json', 'w', encoding='utf-8') as up:\n",
    "    json.dump(questions, up, ensure_ascii=False, indent=4)"
   ]
  },
  {
   "cell_type": "code",
   "execution_count": 9,
   "metadata": {},
   "outputs": [],
   "source": [
    "import time\n",
    "import jwt\n",
    "import requests\n",
    "\n",
    "def generate_token(apikey: str, exp_seconds: int):\n",
    "    try:\n",
    "        id, secret = apikey.split(\".\")\n",
    "    except Exception as e:\n",
    "        raise Exception(\"invalid apikey\", e)\n",
    "\n",
    "    payload = {\n",
    "        \"api_key\": id,\n",
    "        \"exp\": int(round(time.time() * 1000)) + exp_seconds * 1000,\n",
    "        \"timestamp\": int(round(time.time() * 1000)),\n",
    "    }\n",
    "\n",
    "    return jwt.encode(\n",
    "        payload,\n",
    "        secret,\n",
    "        algorithm=\"HS256\",\n",
    "        headers={\"alg\": \"HS256\", \"sign_type\": \"SIGN\"},\n",
    "    )"
   ]
  },
  {
   "cell_type": "code",
   "execution_count": 2,
   "metadata": {},
   "outputs": [],
   "source": [
    "import os\n",
    "ZP_key = os.getenv(\"GLM_KEY\")"
   ]
  },
  {
   "cell_type": "code",
   "execution_count": 3,
   "metadata": {},
   "outputs": [],
   "source": [
    "def ask_glm(content):\n",
    "    url = \"https://open.bigmodel.cn/api/paas/v4/chat/completions\"\n",
    "    headers = {\n",
    "      'Content-Type': 'application/json',\n",
    "      'Authorization': generate_token(ZP_key, 1000)\n",
    "    }\n",
    "\n",
    "    data = {\n",
    "        \"model\": \"glm-3-turbo\",\n",
    "        \"messages\": [{\"role\": \"user\", \"content\": content}]\n",
    "    }\n",
    "\n",
    "    response = requests.post(url, headers=headers, json=data)\n",
    "    return response.json()"
   ]
  },
  {
   "cell_type": "code",
   "execution_count": 4,
   "metadata": {},
   "outputs": [],
   "source": [
    "import json\n",
    "\n",
    "with open(\"submitLM.json\", \"r\", encoding='utf-8') as f:\n",
    "    info = json.load(f)\n"
   ]
  },
  {
   "cell_type": "code",
   "execution_count": 10,
   "metadata": {},
   "outputs": [
    {
     "ename": "InvalidSchema",
     "evalue": "Missing dependencies for SOCKS support.",
     "output_type": "error",
     "traceback": [
      "\u001b[1;31m---------------------------------------------------------------------------\u001b[0m",
      "\u001b[1;31mInvalidSchema\u001b[0m                             Traceback (most recent call last)",
      "Cell \u001b[1;32mIn[10], line 12\u001b[0m\n\u001b[0;32m      2\u001b[0m     target_index \u001b[38;5;241m=\u001b[39m \u001b[38;5;28mint\u001b[39m(info[query_idx][\u001b[38;5;124m'\u001b[39m\u001b[38;5;124mreference\u001b[39m\u001b[38;5;124m'\u001b[39m]\u001b[38;5;241m.\u001b[39msplit(\u001b[38;5;124m\"\u001b[39m\u001b[38;5;124m_\u001b[39m\u001b[38;5;124m\"\u001b[39m)[\u001b[38;5;241m1\u001b[39m])\n\u001b[0;32m      4\u001b[0m     prompt \u001b[38;5;241m=\u001b[39m \u001b[38;5;124m'''\u001b[39m\u001b[38;5;124m你是一个汽车专家，帮我结合给定的资料，回答一个问题。如果问题无法从资料中获得，请输出结合给定的资料，无法回答问题。\u001b[39m\n\u001b[0;32m      5\u001b[0m \u001b[38;5;124m资料：\u001b[39m\u001b[38;5;132;01m{0}\u001b[39;00m\n\u001b[0;32m      6\u001b[0m \n\u001b[1;32m   (...)\u001b[0m\n\u001b[0;32m      9\u001b[0m                questions[query_idx][\u001b[38;5;124m'\u001b[39m\u001b[38;5;124mquestion\u001b[39m\u001b[38;5;124m'\u001b[39m]\n\u001b[0;32m     10\u001b[0m                )\n\u001b[1;32m---> 12\u001b[0m     answer \u001b[38;5;241m=\u001b[39m \u001b[43mask_glm\u001b[49m\u001b[43m(\u001b[49m\u001b[43mprompt\u001b[49m\u001b[43m)\u001b[49m[\u001b[38;5;124m'\u001b[39m\u001b[38;5;124mchoices\u001b[39m\u001b[38;5;124m'\u001b[39m][\u001b[38;5;241m0\u001b[39m][\u001b[38;5;124m'\u001b[39m\u001b[38;5;124mmessage\u001b[39m\u001b[38;5;124m'\u001b[39m][\u001b[38;5;124m'\u001b[39m\u001b[38;5;124mcontent\u001b[39m\u001b[38;5;124m'\u001b[39m]\n\u001b[0;32m     13\u001b[0m     questions[query_idx][\u001b[38;5;124m'\u001b[39m\u001b[38;5;124manswer\u001b[39m\u001b[38;5;124m'\u001b[39m] \u001b[38;5;241m=\u001b[39m answer\n\u001b[0;32m     16\u001b[0m \u001b[38;5;28;01mwith\u001b[39;00m \u001b[38;5;28mopen\u001b[39m(\u001b[38;5;124m'\u001b[39m\u001b[38;5;124msubmitM3e.json\u001b[39m\u001b[38;5;124m'\u001b[39m, \u001b[38;5;124m\"\u001b[39m\u001b[38;5;124mw\u001b[39m\u001b[38;5;124m\"\u001b[39m, encoding\u001b[38;5;241m=\u001b[39m\u001b[38;5;124m'\u001b[39m\u001b[38;5;124mutf-8\u001b[39m\u001b[38;5;124m'\u001b[39m) \u001b[38;5;28;01mas\u001b[39;00m up:\n",
      "Cell \u001b[1;32mIn[3], line 13\u001b[0m, in \u001b[0;36mask_glm\u001b[1;34m(content)\u001b[0m\n\u001b[0;32m      3\u001b[0m headers \u001b[38;5;241m=\u001b[39m {\n\u001b[0;32m      4\u001b[0m   \u001b[38;5;124m'\u001b[39m\u001b[38;5;124mContent-Type\u001b[39m\u001b[38;5;124m'\u001b[39m: \u001b[38;5;124m'\u001b[39m\u001b[38;5;124mapplication/json\u001b[39m\u001b[38;5;124m'\u001b[39m,\n\u001b[0;32m      5\u001b[0m   \u001b[38;5;124m'\u001b[39m\u001b[38;5;124mAuthorization\u001b[39m\u001b[38;5;124m'\u001b[39m: generate_token(ZP_key, \u001b[38;5;241m1000\u001b[39m)\n\u001b[0;32m      6\u001b[0m }\n\u001b[0;32m      8\u001b[0m data \u001b[38;5;241m=\u001b[39m {\n\u001b[0;32m      9\u001b[0m     \u001b[38;5;124m\"\u001b[39m\u001b[38;5;124mmodel\u001b[39m\u001b[38;5;124m\"\u001b[39m: \u001b[38;5;124m\"\u001b[39m\u001b[38;5;124mglm-3-turbo\u001b[39m\u001b[38;5;124m\"\u001b[39m,\n\u001b[0;32m     10\u001b[0m     \u001b[38;5;124m\"\u001b[39m\u001b[38;5;124mmessages\u001b[39m\u001b[38;5;124m\"\u001b[39m: [{\u001b[38;5;124m\"\u001b[39m\u001b[38;5;124mrole\u001b[39m\u001b[38;5;124m\"\u001b[39m: \u001b[38;5;124m\"\u001b[39m\u001b[38;5;124muser\u001b[39m\u001b[38;5;124m\"\u001b[39m, \u001b[38;5;124m\"\u001b[39m\u001b[38;5;124mcontent\u001b[39m\u001b[38;5;124m\"\u001b[39m: content}]\n\u001b[0;32m     11\u001b[0m }\n\u001b[1;32m---> 13\u001b[0m response \u001b[38;5;241m=\u001b[39m \u001b[43mrequests\u001b[49m\u001b[38;5;241;43m.\u001b[39;49m\u001b[43mpost\u001b[49m\u001b[43m(\u001b[49m\u001b[43murl\u001b[49m\u001b[43m,\u001b[49m\u001b[43m \u001b[49m\u001b[43mheaders\u001b[49m\u001b[38;5;241;43m=\u001b[39;49m\u001b[43mheaders\u001b[49m\u001b[43m,\u001b[49m\u001b[43m \u001b[49m\u001b[43mjson\u001b[49m\u001b[38;5;241;43m=\u001b[39;49m\u001b[43mdata\u001b[49m\u001b[43m)\u001b[49m\n\u001b[0;32m     14\u001b[0m \u001b[38;5;28;01mreturn\u001b[39;00m response\u001b[38;5;241m.\u001b[39mjson()\n",
      "File \u001b[1;32mc:\\Users\\Lenovo\\miniconda3\\envs\\LLMDev\\lib\\site-packages\\requests\\api.py:115\u001b[0m, in \u001b[0;36mpost\u001b[1;34m(url, data, json, **kwargs)\u001b[0m\n\u001b[0;32m    103\u001b[0m \u001b[38;5;28;01mdef\u001b[39;00m \u001b[38;5;21mpost\u001b[39m(url, data\u001b[38;5;241m=\u001b[39m\u001b[38;5;28;01mNone\u001b[39;00m, json\u001b[38;5;241m=\u001b[39m\u001b[38;5;28;01mNone\u001b[39;00m, \u001b[38;5;241m*\u001b[39m\u001b[38;5;241m*\u001b[39mkwargs):\n\u001b[0;32m    104\u001b[0m \u001b[38;5;250m    \u001b[39m\u001b[38;5;124mr\u001b[39m\u001b[38;5;124;03m\"\"\"Sends a POST request.\u001b[39;00m\n\u001b[0;32m    105\u001b[0m \n\u001b[0;32m    106\u001b[0m \u001b[38;5;124;03m    :param url: URL for the new :class:`Request` object.\u001b[39;00m\n\u001b[1;32m   (...)\u001b[0m\n\u001b[0;32m    112\u001b[0m \u001b[38;5;124;03m    :rtype: requests.Response\u001b[39;00m\n\u001b[0;32m    113\u001b[0m \u001b[38;5;124;03m    \"\"\"\u001b[39;00m\n\u001b[1;32m--> 115\u001b[0m     \u001b[38;5;28;01mreturn\u001b[39;00m request(\u001b[38;5;124m\"\u001b[39m\u001b[38;5;124mpost\u001b[39m\u001b[38;5;124m\"\u001b[39m, url, data\u001b[38;5;241m=\u001b[39mdata, json\u001b[38;5;241m=\u001b[39mjson, \u001b[38;5;241m*\u001b[39m\u001b[38;5;241m*\u001b[39mkwargs)\n",
      "File \u001b[1;32mc:\\Users\\Lenovo\\miniconda3\\envs\\LLMDev\\lib\\site-packages\\requests\\api.py:59\u001b[0m, in \u001b[0;36mrequest\u001b[1;34m(method, url, **kwargs)\u001b[0m\n\u001b[0;32m     55\u001b[0m \u001b[38;5;66;03m# By using the 'with' statement we are sure the session is closed, thus we\u001b[39;00m\n\u001b[0;32m     56\u001b[0m \u001b[38;5;66;03m# avoid leaving sockets open which can trigger a ResourceWarning in some\u001b[39;00m\n\u001b[0;32m     57\u001b[0m \u001b[38;5;66;03m# cases, and look like a memory leak in others.\u001b[39;00m\n\u001b[0;32m     58\u001b[0m \u001b[38;5;28;01mwith\u001b[39;00m sessions\u001b[38;5;241m.\u001b[39mSession() \u001b[38;5;28;01mas\u001b[39;00m session:\n\u001b[1;32m---> 59\u001b[0m     \u001b[38;5;28;01mreturn\u001b[39;00m session\u001b[38;5;241m.\u001b[39mrequest(method\u001b[38;5;241m=\u001b[39mmethod, url\u001b[38;5;241m=\u001b[39murl, \u001b[38;5;241m*\u001b[39m\u001b[38;5;241m*\u001b[39mkwargs)\n",
      "File \u001b[1;32mc:\\Users\\Lenovo\\miniconda3\\envs\\LLMDev\\lib\\site-packages\\requests\\sessions.py:589\u001b[0m, in \u001b[0;36mSession.request\u001b[1;34m(self, method, url, params, data, headers, cookies, files, auth, timeout, allow_redirects, proxies, hooks, stream, verify, cert, json)\u001b[0m\n\u001b[0;32m    584\u001b[0m send_kwargs \u001b[38;5;241m=\u001b[39m {\n\u001b[0;32m    585\u001b[0m     \u001b[38;5;124m\"\u001b[39m\u001b[38;5;124mtimeout\u001b[39m\u001b[38;5;124m\"\u001b[39m: timeout,\n\u001b[0;32m    586\u001b[0m     \u001b[38;5;124m\"\u001b[39m\u001b[38;5;124mallow_redirects\u001b[39m\u001b[38;5;124m\"\u001b[39m: allow_redirects,\n\u001b[0;32m    587\u001b[0m }\n\u001b[0;32m    588\u001b[0m send_kwargs\u001b[38;5;241m.\u001b[39mupdate(settings)\n\u001b[1;32m--> 589\u001b[0m resp \u001b[38;5;241m=\u001b[39m \u001b[38;5;28mself\u001b[39m\u001b[38;5;241m.\u001b[39msend(prep, \u001b[38;5;241m*\u001b[39m\u001b[38;5;241m*\u001b[39msend_kwargs)\n\u001b[0;32m    591\u001b[0m \u001b[38;5;28;01mreturn\u001b[39;00m resp\n",
      "File \u001b[1;32mc:\\Users\\Lenovo\\miniconda3\\envs\\LLMDev\\lib\\site-packages\\requests\\sessions.py:703\u001b[0m, in \u001b[0;36mSession.send\u001b[1;34m(self, request, **kwargs)\u001b[0m\n\u001b[0;32m    700\u001b[0m start \u001b[38;5;241m=\u001b[39m preferred_clock()\n\u001b[0;32m    702\u001b[0m \u001b[38;5;66;03m# Send the request\u001b[39;00m\n\u001b[1;32m--> 703\u001b[0m r \u001b[38;5;241m=\u001b[39m adapter\u001b[38;5;241m.\u001b[39msend(request, \u001b[38;5;241m*\u001b[39m\u001b[38;5;241m*\u001b[39mkwargs)\n\u001b[0;32m    705\u001b[0m \u001b[38;5;66;03m# Total elapsed time of the request (approximately)\u001b[39;00m\n\u001b[0;32m    706\u001b[0m elapsed \u001b[38;5;241m=\u001b[39m preferred_clock() \u001b[38;5;241m-\u001b[39m start\n",
      "File \u001b[1;32mc:\\Users\\Lenovo\\miniconda3\\envs\\LLMDev\\lib\\site-packages\\requests\\adapters.py:454\u001b[0m, in \u001b[0;36mHTTPAdapter.send\u001b[1;34m(self, request, stream, timeout, verify, cert, proxies)\u001b[0m\n\u001b[0;32m    437\u001b[0m \u001b[38;5;250m\u001b[39m\u001b[38;5;124;03m\"\"\"Sends PreparedRequest object. Returns Response object.\u001b[39;00m\n\u001b[0;32m    438\u001b[0m \n\u001b[0;32m    439\u001b[0m \u001b[38;5;124;03m:param request: The :class:`PreparedRequest <PreparedRequest>` being sent.\u001b[39;00m\n\u001b[1;32m   (...)\u001b[0m\n\u001b[0;32m    450\u001b[0m \u001b[38;5;124;03m:rtype: requests.Response\u001b[39;00m\n\u001b[0;32m    451\u001b[0m \u001b[38;5;124;03m\"\"\"\u001b[39;00m\n\u001b[0;32m    453\u001b[0m \u001b[38;5;28;01mtry\u001b[39;00m:\n\u001b[1;32m--> 454\u001b[0m     conn \u001b[38;5;241m=\u001b[39m \u001b[38;5;28;43mself\u001b[39;49m\u001b[38;5;241;43m.\u001b[39;49m\u001b[43mget_connection\u001b[49m\u001b[43m(\u001b[49m\u001b[43mrequest\u001b[49m\u001b[38;5;241;43m.\u001b[39;49m\u001b[43murl\u001b[49m\u001b[43m,\u001b[49m\u001b[43m \u001b[49m\u001b[43mproxies\u001b[49m\u001b[43m)\u001b[49m\n\u001b[0;32m    455\u001b[0m \u001b[38;5;28;01mexcept\u001b[39;00m LocationValueError \u001b[38;5;28;01mas\u001b[39;00m e:\n\u001b[0;32m    456\u001b[0m     \u001b[38;5;28;01mraise\u001b[39;00m InvalidURL(e, request\u001b[38;5;241m=\u001b[39mrequest)\n",
      "File \u001b[1;32mc:\\Users\\Lenovo\\miniconda3\\envs\\LLMDev\\lib\\site-packages\\requests\\adapters.py:350\u001b[0m, in \u001b[0;36mHTTPAdapter.get_connection\u001b[1;34m(self, url, proxies)\u001b[0m\n\u001b[0;32m    345\u001b[0m     \u001b[38;5;28;01mif\u001b[39;00m \u001b[38;5;129;01mnot\u001b[39;00m proxy_url\u001b[38;5;241m.\u001b[39mhost:\n\u001b[0;32m    346\u001b[0m         \u001b[38;5;28;01mraise\u001b[39;00m InvalidProxyURL(\n\u001b[0;32m    347\u001b[0m             \u001b[38;5;124m\"\u001b[39m\u001b[38;5;124mPlease check proxy URL. It is malformed \u001b[39m\u001b[38;5;124m\"\u001b[39m\n\u001b[0;32m    348\u001b[0m             \u001b[38;5;124m\"\u001b[39m\u001b[38;5;124mand could be missing the host.\u001b[39m\u001b[38;5;124m\"\u001b[39m\n\u001b[0;32m    349\u001b[0m         )\n\u001b[1;32m--> 350\u001b[0m     proxy_manager \u001b[38;5;241m=\u001b[39m \u001b[38;5;28;43mself\u001b[39;49m\u001b[38;5;241;43m.\u001b[39;49m\u001b[43mproxy_manager_for\u001b[49m\u001b[43m(\u001b[49m\u001b[43mproxy\u001b[49m\u001b[43m)\u001b[49m\n\u001b[0;32m    351\u001b[0m     conn \u001b[38;5;241m=\u001b[39m proxy_manager\u001b[38;5;241m.\u001b[39mconnection_from_url(url)\n\u001b[0;32m    352\u001b[0m \u001b[38;5;28;01melse\u001b[39;00m:\n\u001b[0;32m    353\u001b[0m     \u001b[38;5;66;03m# Only scheme should be lower case\u001b[39;00m\n",
      "File \u001b[1;32mc:\\Users\\Lenovo\\miniconda3\\envs\\LLMDev\\lib\\site-packages\\requests\\adapters.py:215\u001b[0m, in \u001b[0;36mHTTPAdapter.proxy_manager_for\u001b[1;34m(self, proxy, **proxy_kwargs)\u001b[0m\n\u001b[0;32m    213\u001b[0m \u001b[38;5;28;01melif\u001b[39;00m proxy\u001b[38;5;241m.\u001b[39mlower()\u001b[38;5;241m.\u001b[39mstartswith(\u001b[38;5;124m\"\u001b[39m\u001b[38;5;124msocks\u001b[39m\u001b[38;5;124m\"\u001b[39m):\n\u001b[0;32m    214\u001b[0m     username, password \u001b[38;5;241m=\u001b[39m get_auth_from_url(proxy)\n\u001b[1;32m--> 215\u001b[0m     manager \u001b[38;5;241m=\u001b[39m \u001b[38;5;28mself\u001b[39m\u001b[38;5;241m.\u001b[39mproxy_manager[proxy] \u001b[38;5;241m=\u001b[39m SOCKSProxyManager(\n\u001b[0;32m    216\u001b[0m         proxy,\n\u001b[0;32m    217\u001b[0m         username\u001b[38;5;241m=\u001b[39musername,\n\u001b[0;32m    218\u001b[0m         password\u001b[38;5;241m=\u001b[39mpassword,\n\u001b[0;32m    219\u001b[0m         num_pools\u001b[38;5;241m=\u001b[39m\u001b[38;5;28mself\u001b[39m\u001b[38;5;241m.\u001b[39m_pool_connections,\n\u001b[0;32m    220\u001b[0m         maxsize\u001b[38;5;241m=\u001b[39m\u001b[38;5;28mself\u001b[39m\u001b[38;5;241m.\u001b[39m_pool_maxsize,\n\u001b[0;32m    221\u001b[0m         block\u001b[38;5;241m=\u001b[39m\u001b[38;5;28mself\u001b[39m\u001b[38;5;241m.\u001b[39m_pool_block,\n\u001b[0;32m    222\u001b[0m         \u001b[38;5;241m*\u001b[39m\u001b[38;5;241m*\u001b[39mproxy_kwargs,\n\u001b[0;32m    223\u001b[0m     )\n\u001b[0;32m    224\u001b[0m \u001b[38;5;28;01melse\u001b[39;00m:\n\u001b[0;32m    225\u001b[0m     proxy_headers \u001b[38;5;241m=\u001b[39m \u001b[38;5;28mself\u001b[39m\u001b[38;5;241m.\u001b[39mproxy_headers(proxy)\n",
      "File \u001b[1;32mc:\\Users\\Lenovo\\miniconda3\\envs\\LLMDev\\lib\\site-packages\\requests\\adapters.py:61\u001b[0m, in \u001b[0;36mSOCKSProxyManager\u001b[1;34m(*args, **kwargs)\u001b[0m\n\u001b[0;32m     60\u001b[0m \u001b[38;5;28;01mdef\u001b[39;00m \u001b[38;5;21mSOCKSProxyManager\u001b[39m(\u001b[38;5;241m*\u001b[39margs, \u001b[38;5;241m*\u001b[39m\u001b[38;5;241m*\u001b[39mkwargs):\n\u001b[1;32m---> 61\u001b[0m     \u001b[38;5;28;01mraise\u001b[39;00m InvalidSchema(\u001b[38;5;124m\"\u001b[39m\u001b[38;5;124mMissing dependencies for SOCKS support.\u001b[39m\u001b[38;5;124m\"\u001b[39m)\n",
      "\u001b[1;31mInvalidSchema\u001b[0m: Missing dependencies for SOCKS support."
     ]
    }
   ],
   "source": [
    "# 运行时解除注释\n",
    "# for query_idx in range(len(questions)):\n",
    "#     target_index = int(info[query_idx]['reference'].split(\"_\")[1])\n",
    "    \n",
    "#     prompt = '''你是一个汽车专家，帮我结合给定的资料，回答一个问题。如果问题无法从资料中获得，请输出结合给定的资料，无法回答问题。\n",
    "# 资料：{0}\n",
    "\n",
    "# 问题：{1}\n",
    "#     '''.format(pdf_content[target_index-1]['content'],\n",
    "#                questions[query_idx]['question']\n",
    "#                )\n",
    "\n",
    "#     answer = ask_glm(prompt)['choices'][0]['message']['content']\n",
    "#     questions[query_idx]['answer'] = answer\n",
    "\n",
    "\n",
    "# with open('submitM3e.json', \"w\", encoding='utf-8') as up:\n",
    "#     json.dump(questions, up, ensure_ascii=False, indent=4)\n",
    "# # 这一版的分数是在0.3185 还可以继续优化"
   ]
  },
  {
   "cell_type": "code",
   "execution_count": 15,
   "metadata": {},
   "outputs": [],
   "source": [
    "count = 0\n",
    "not_list = []\n",
    "for query_idx in range(len(questions)):\n",
    "    target_index = int(info[query_idx]['reference'].split(\"_\")[1])\n",
    "    \n",
    "    prompt = '''你是一个汽车维修和汽车销售的专家,请判断下面的提问是否与汽车使用或汽车使用手册的内容有关。\n",
    "    回答的输出形式是 相关 或者 不相关。\n",
    "    问题: {}\n",
    "'''.format(questions[query_idx]['question'])\n",
    "#     prompt = '''你是一个汽车专家，帮我结合给定的资料，回答一个问题。如果问题无法从资料中获得，请输出结合给定的资料，无法回答问题。\n",
    "# 资料：{0}\n",
    "\n",
    "# 问题：{1}\n",
    "#     '''.format(pdf_content[target_index-1]['content'],\n",
    "#                questions[query_idx]['question']\n",
    "#                )\n",
    "\n",
    "    answer = ask_glm(prompt)['choices'][0]['message']['content']\n",
    "    if answer == \"不相关\":\n",
    "        count += 1\n",
    "        not_list.append(query_idx)\n",
    "    # questions[query_idx]['answer'] = answer\n",
    "\n",
    "\"\"\"\n",
    "在实际的submit.json文件中 只有28个问题无法回答，但是这个不相关的问题的长度通过提示词回答是98，\n",
    "这显然不能让他自己发挥，\n",
    "检查了这28个大语言模型无法回答的问题，\n",
    "其实是与汽车相关的，更多的可能是并没有匹配到的问题，是有少部分问的问题比较算常识吧\n",
    "另外，有些问题的关键词出现在了回答中，但是并没有相应的下一步的细节，\n",
    "可以推测，可能是粗暴的将每一个pdf的每一页试做一个文档导致的，没有连贯起来，\n",
    "因此合并某些文档的策略来帮助生成回答是有效的。\n",
    "或者一些很简单的策略便是，给回答的文档的区间-+1 前进一页再增加一页\n",
    "而目前没有与汽车无法的问题，\n",
    "\"\"\""
   ]
  },
  {
   "cell_type": "code",
   "execution_count": 18,
   "metadata": {},
   "outputs": [
    {
     "data": {
      "text/plain": [
       "301"
      ]
     },
     "execution_count": 18,
     "metadata": {},
     "output_type": "execute_result"
    }
   ],
   "source": []
  },
  {
   "cell_type": "code",
   "execution_count": null,
   "metadata": {},
   "outputs": [],
   "source": [
    "prompt_normal = \"你是一个汽车维修和汽车销售的专家, 请帮我回答以下汽车使用和维护的相关问题\""
   ]
  }
 ],
 "metadata": {
  "kernelspec": {
   "display_name": "LLMDev",
   "language": "python",
   "name": "python3"
  },
  "language_info": {
   "codemirror_mode": {
    "name": "ipython",
    "version": 3
   },
   "file_extension": ".py",
   "mimetype": "text/x-python",
   "name": "python",
   "nbconvert_exporter": "python",
   "pygments_lexer": "ipython3",
   "version": "3.10.13"
  }
 },
 "nbformat": 4,
 "nbformat_minor": 2
}
